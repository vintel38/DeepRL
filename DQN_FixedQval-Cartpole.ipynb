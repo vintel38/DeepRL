{
 "cells": [
  {
   "cell_type": "markdown",
   "id": "fiscal-preservation",
   "metadata": {},
   "source": [
    "## Implémentation de DQN pour l'environnement Gym CartPole avec l'architecture Fixed Q values \n",
    "\n",
    "Ce notebook est juste une copie manuelle du DQN proposé par [Aurélien Géron](https://github.com/ageron/handson-ml2/blob/master/18_reinforcement_learning.ipynb) pour maîtriser l'équilibre d'un pendule inversé. Il vise uniquement à s'approprier les techniques de codage pour avoir une base performante avant de complexifier l'environnement et la tâche à réaliser par l'agent. \n",
    "\n",
    "A noter que l'affichage qui permet en général d'attester la qualité et la performance d'un DQN présente la somme des récompenses par épisode et non la loss qui n'est pas représentative de la qualité de l'apprentissage. Dans ce notebook, on explore la technique Fixed Q values qui consistent à créer deux modèles : un pour chaque côté de l'équation de Bellman target et training. On entraîne  "
   ]
  },
  {
   "cell_type": "code",
   "execution_count": 1,
   "id": "friendly-haiti",
   "metadata": {},
   "outputs": [],
   "source": [
    "# Importer les librairies nécessaires\n",
    "\n",
    "import gym\n",
    "import tensorflow.keras as keras\n",
    "import tensorflow as tf\n",
    "import numpy as np\n",
    "from tqdm import tqdm"
   ]
  },
  {
   "cell_type": "code",
   "execution_count": 2,
   "id": "wireless-frontier",
   "metadata": {},
   "outputs": [],
   "source": [
    "# Mise en place de l'agent et du DQN\n",
    "\n",
    "def def_model(input_nb, output_nb):\n",
    "    model = keras.models.Sequential([\n",
    "        keras.layers.Dense(64, activation=\"elu\", input_shape=input_nb),\n",
    "        keras.layers.Dense(32, activation=\"elu\"),\n",
    "        keras.layers.Dense(output_nb)])\n",
    "    return model\n",
    "\n",
    "def epsilon_greedy_policy(state, nb_outputs, epsilon=0):\n",
    "    if np.random.rand() < epsilon:\n",
    "        return np.random.randint(nb_outputs)\n",
    "    else:\n",
    "        Q_values = Training.predict(state[np.newaxis])\n",
    "        return np.argmax(Q_values[0])"
   ]
  },
  {
   "cell_type": "code",
   "execution_count": 3,
   "id": "endangered-therapy",
   "metadata": {},
   "outputs": [],
   "source": [
    "# Mise en place du stockage d'expériences\n",
    "\n",
    "from collections import deque\n",
    "\n",
    "replay_buffer = deque(maxlen=2000)\n",
    "\n",
    "def sample_experiences(batch_size):\n",
    "    indices = np.random.randint(len(replay_buffer), size=batch_size)\n",
    "    batch = [replay_buffer[index] for index in indices]\n",
    "    states, actions, rewards, next_states, dones = [\n",
    "        np.array([experience[field_index] for experience in batch])\n",
    "        for field_index in range(5)]\n",
    "    return states, actions, rewards, next_states, dones"
   ]
  },
  {
   "cell_type": "code",
   "execution_count": 4,
   "id": "infinite-treaty",
   "metadata": {},
   "outputs": [],
   "source": [
    "# Mise en place de l'environnement d'exécution\n",
    "\n",
    "def play_one_step(env, state, epsilon):\n",
    "    action = epsilon_greedy_policy(state, n_outputs, epsilon)\n",
    "    next_state, reward, done, info = env.step(action)\n",
    "    replay_buffer.append((state, action, reward, next_state, done))\n",
    "    return next_state, reward, done, info"
   ]
  },
  {
   "cell_type": "code",
   "execution_count": 5,
   "id": "stylish-portland",
   "metadata": {},
   "outputs": [],
   "source": [
    "# Mise en place de la procédure d'entraînement\n",
    "\n",
    "env = gym.make(\"CartPole-v0\")\n",
    "input_shape=[4]\n",
    "n_outputs=2\n",
    "\n",
    "batch_size = 32\n",
    "gamma = 0.95\n",
    "optimizer = keras.optimizers.Adam(lr=1e-3)\n",
    "loss_fn = keras.losses.mean_squared_error\n",
    "\n",
    "Training = def_model(input_shape, n_outputs)\n",
    "Target = def_model(input_shape, n_outputs)\n",
    "\n",
    "def training_step(batch_size):\n",
    "    experiences = sample_experiences(batch_size)\n",
    "    states, actions, rewards, next_states, dones = experiences\n",
    "    Qval_next_target = Target.predict(next_states)\n",
    "    max_Qval_next_target = np.max(Qval_next_target, axis=1)\n",
    "    Qval_target = (rewards + (1-dones) * gamma * max_Qval_next_target)\n",
    "    mask = tf.one_hot(actions, n_outputs)\n",
    "    with tf.GradientTape() as tape:\n",
    "        Qval_all_train = Training(states)\n",
    "        Qval_train = tf.reduce_sum(Qval_all_train * mask, axis=1, keepdims=True)\n",
    "        loss = tf.reduce_mean(loss_fn(Qval_target, Qval_train))\n",
    "    grads = tape.gradient(loss, Training.trainable_variables)\n",
    "    optimizer.apply_gradients(zip(grads, Training.trainable_variables))"
   ]
  },
  {
   "cell_type": "code",
   "execution_count": 6,
   "id": "responsible-kelly",
   "metadata": {
    "tags": []
   },
   "outputs": [
    {
     "name": "stderr",
     "output_type": "stream",
     "text": [
      "  8%|██████▎                                                                          | 47/600 [00:04<01:39,  5.58it/s]"
     ]
    },
    {
     "name": "stdout",
     "output_type": "stream",
     "text": [
      "WARNING:tensorflow:From C:\\Users\\User\\anaconda3\\envs\\OpenAI\\lib\\site-packages\\tensorflow_core\\python\\ops\\resource_variable_ops.py:1786: calling BaseResourceVariable.__init__ (from tensorflow.python.ops.resource_variable_ops) with constraint is deprecated and will be removed in a future version.\n",
      "Instructions for updating:\n",
      "If using Keras pass *_constraint arguments to layers.\n",
      "INFO:tensorflow:Assets written to: cartpole\\assets\n"
     ]
    },
    {
     "name": "stderr",
     "output_type": "stream",
     "text": [
      "  8%|██████▉                                                                          | 51/600 [00:06<03:31,  2.60it/s]"
     ]
    },
    {
     "name": "stdout",
     "output_type": "stream",
     "text": [
      "INFO:tensorflow:Assets written to: cartpole\\assets\n",
      "WARNING:tensorflow:Layer dense is casting an input tensor from dtype float64 to the layer's dtype of float32, which is new behavior in TensorFlow 2.  The layer has dtype float32 because it's dtype defaults to floatx.\n",
      "\n",
      "If you intended to run this layer in float32, you can safely ignore this warning. If in doubt, this warning is likely only an issue if you are porting a TensorFlow 1.X model to TensorFlow 2.\n",
      "\n",
      "To change all layers to have dtype float64 by default, call `tf.keras.backend.set_floatx('float64')`. To change just this layer, pass dtype='float64' to the layer constructor. If you are the author of this layer, you can disable autocasting by passing autocast=False to the base Layer constructor.\n",
      "\n"
     ]
    },
    {
     "name": "stderr",
     "output_type": "stream",
     "text": [
      "  9%|███████▍                                                                         | 55/600 [00:09<03:53,  2.34it/s]"
     ]
    },
    {
     "name": "stdout",
     "output_type": "stream",
     "text": [
      "INFO:tensorflow:Assets written to: cartpole\\assets\n"
     ]
    },
    {
     "name": "stderr",
     "output_type": "stream",
     "text": [
      " 19%|███████████████▎                                                                | 115/600 [00:33<04:23,  1.84it/s]"
     ]
    },
    {
     "name": "stdout",
     "output_type": "stream",
     "text": [
      "INFO:tensorflow:Assets written to: cartpole\\assets\n"
     ]
    },
    {
     "name": "stderr",
     "output_type": "stream",
     "text": [
      " 38%|██████████████████████████████▊                                                 | 231/600 [01:34<06:05,  1.01it/s]"
     ]
    },
    {
     "name": "stdout",
     "output_type": "stream",
     "text": [
      "INFO:tensorflow:Assets written to: cartpole\\assets\n"
     ]
    },
    {
     "name": "stderr",
     "output_type": "stream",
     "text": [
      " 49%|███████████████████████████████████████▏                                        | 294/600 [02:35<04:31,  1.13it/s]"
     ]
    },
    {
     "name": "stdout",
     "output_type": "stream",
     "text": [
      "INFO:tensorflow:Assets written to: cartpole\\assets\n"
     ]
    },
    {
     "name": "stderr",
     "output_type": "stream",
     "text": [
      "100%|████████████████████████████████████████████████████████████████████████████████| 600/600 [13:21<00:00,  1.34s/it]"
     ]
    },
    {
     "name": "stdout",
     "output_type": "stream",
     "text": [
      "maxi = 199.0\n"
     ]
    },
    {
     "name": "stderr",
     "output_type": "stream",
     "text": [
      "\n"
     ]
    }
   ],
   "source": [
    "rewards=[]\n",
    "maxi=0\n",
    "\n",
    "for episode in tqdm(range(600)):\n",
    "    obs = env.reset()\n",
    "    sum=0\n",
    "    for step in range(200):\n",
    "        epsilon = max(1 - episode/500, 0.01)\n",
    "        obs, reward, done, info = play_one_step(env, obs, epsilon)\n",
    "        if done:\n",
    "            break\n",
    "        sum+=reward\n",
    "    rewards.append(sum)\n",
    "    \n",
    "    if sum>50 and sum>maxi:\n",
    "        Target.save('cartpole')\n",
    "        maxi=sum\n",
    "    \n",
    "    if episode > 50:\n",
    "        training_step(batch_size)\n",
    "        \n",
    "    if episode % 50 ==0:\n",
    "        Target.set_weights(Training.get_weights())\n",
    "print('maxi = {}'.format(maxi))"
   ]
  },
  {
   "cell_type": "code",
   "execution_count": 8,
   "id": "european-scroll",
   "metadata": {
    "tags": []
   },
   "outputs": [
    {
     "data": {
      "image/png": "[encoded data removed]",
      "text/plain": [
       "<Figure size 432x288 with 1 Axes>"
      ]
     },
     "metadata": {
      "needs_background": "light"
     },
     "output_type": "display_data"
    }
   ],
   "source": [
    "import matplotlib.pyplot as plt\n",
    "\n",
    "plt.plot(rewards)\n",
    "plt.show()"
   ]
  },
  {
   "cell_type": "code",
   "execution_count": 9,
   "id": "c78761b3-cace-4b13-a4f8-709c4b9396a5",
   "metadata": {
    "tags": []
   },
   "outputs": [
    {
     "name": "stdout",
     "output_type": "stream",
     "text": [
      "Model: \"sequential_1\"\n",
      "_________________________________________________________________\n",
      "Layer (type)                 Output Shape              Param #   \n",
      "=================================================================\n",
      "dense_3 (Dense)              (None, 64)                320       \n",
      "_________________________________________________________________\n",
      "dense_4 (Dense)              (None, 32)                2080      \n",
      "_________________________________________________________________\n",
      "dense_5 (Dense)              (None, 2)                 66        \n",
      "=================================================================\n",
      "Total params: 2,466\n",
      "Trainable params: 2,466\n",
      "Non-trainable params: 0\n",
      "_________________________________________________________________\n"
     ]
    }
   ],
   "source": [
    "import tensorflow as tf \n",
    "\n",
    "model = tf.keras.models.load_model('cartpole')\n",
    "\n",
    "# Check its architecture\n",
    "model.summary()"
   ]
  },
  {
   "cell_type": "code",
   "execution_count": 12,
   "id": "14d7da3f-1829-4fc1-9a63-de54a542bdd6",
   "metadata": {
    "tags": []
   },
   "outputs": [
    {
     "name": "stderr",
     "output_type": "stream",
     "text": [
      "  2%|█▊                                                                               | 11/500 [00:01<00:45, 10.77it/s]C:\\Users\\User\\anaconda3\\envs\\OpenAI\\lib\\site-packages\\gym\\logger.py:30: UserWarning: \u001b[33mWARN: You are calling 'step()' even though this environment has already returned done = True. You should always call 'reset()' once you receive 'done = True' -- any further steps are undefined behavior.\u001b[0m\n",
      "  warnings.warn(colorize('%s: %s'%('WARN', msg % args), 'yellow'))\n",
      "100%|████████████████████████████████████████████████████████████████████████████████| 500/500 [00:47<00:00, 10.50it/s]\n"
     ]
    }
   ],
   "source": [
    "import gym\n",
    "from tqdm import tqdm \n",
    "import numpy as np\n",
    "\n",
    "env = gym.make('CartPole-v0')\n",
    "state = env.reset()\n",
    "for i in tqdm(range(500)):\n",
    "    env.render()\n",
    "    Q_values = model.predict(state[np.newaxis])\n",
    "    state, _, done, _ = env.step(np.argmax(Q_values[0])) # take a random action\n",
    "    \n",
    "env.close()"
   ]
  },
  {
   "cell_type": "raw",
   "id": "1c501fdb-e2b4-4388-9a90-7c950f64014e",
   "metadata": {},
   "source": [
    "import gym\n",
    "from tqdm import tqdm \n",
    "import numpy as np\n",
    "\n",
    "env = gym.make('CartPole-v0')\n",
    "state = env.reset()\n",
    "for i in tqdm(range(500)):\n",
    "    Q_values = model.predict(state[np.newaxis])\n",
    "    state, _, done, _ = env.step(np.argmax(Q_values[0])) # take a random action"
   ]
  }
 ],
 "metadata": {
  "kernelspec": {
   "display_name": "Python 3",
   "language": "python",
   "name": "python3"
  },
  "language_info": {
   "codemirror_mode": {
    "name": "ipython",
    "version": 3
   },
   "file_extension": ".py",
   "mimetype": "text/x-python",
   "name": "python",
   "nbconvert_exporter": "python",
   "pygments_lexer": "ipython3",
   "version": "3.6.13"
  }
 },
 "nbformat": 4,
 "nbformat_minor": 5
}
