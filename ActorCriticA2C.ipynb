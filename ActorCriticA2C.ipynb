{
 "cells": [
  {
   "cell_type": "markdown",
   "id": "5ad81d12-e52b-4180-99c9-788c8ac3bbe5",
   "metadata": {},
   "source": [
    "# Actor Critic pour résoudre l'environnement OpenAI Gym Cartpole\n",
    "\n",
    "Copie expliquée de la page https://keras.io/examples/rl/actor_critic_cartpole/"
   ]
  },
  {
   "cell_type": "markdown",
   "id": "879aa093-7a16-405e-8d7d-ce6e7943ee20",
   "metadata": {},
   "source": [
    "## Introduction \n",
    "\n",
    "L'algorithme Actor Critic est une famille d'algorithme de Reinforcement Learning qui divise la tâche de sélection de l'action en deux parties à savoir :\n",
    "- une partie (Critic) qui évalue l'intérêt ou la valeur de l'action au regard de l'environnement et du système considéré\n",
    "- une partie (Actor) qui en utilisant les informations générées par le Critic choisit effectivement l'action pour l'état présent\n",
    "\n"
   ]
  },
  {
   "cell_type": "markdown",
   "id": "4614fae2-3cc2-4225-a159-89a2d9069f32",
   "metadata": {},
   "source": [
    "***\n",
    "On commence par importer les packages nécessaires au programme et on met en place l'environnement qui sera utilisé par l'algorithme. On définit ensuite quelques variables qui seront utiles au problème. "
   ]
  },
  {
   "cell_type": "code",
   "execution_count": 1,
   "id": "dede8173-0eb3-4bf7-b9be-4345d814544c",
   "metadata": {},
   "outputs": [],
   "source": [
    "import gym\n",
    "import numpy as np\n",
    "import tensorflow as tf\n",
    "from tensorflow import keras\n",
    "from tensorflow.keras import layers\n",
    "\n",
    "# Configuration parameters for the whole setup\n",
    "seed = 42\n",
    "gamma = 0.99  # Discount factor for past rewards\n",
    "max_steps_per_episode = 10000\n",
    "env = gym.make(\"CartPole-v0\")  # Create the environment\n",
    "env.seed(seed)\n",
    "eps = np.finfo(np.float32).eps.item()  # Smallest number such that 1.0 + eps != 1.0"
   ]
  },
  {
   "cell_type": "code",
   "execution_count": 2,
   "id": "1938ba6a-753e-432c-9a6a-7fa6deefe425",
   "metadata": {},
   "outputs": [],
   "source": [
    "num_inputs = 4\n",
    "num_actions = 2\n",
    "num_hidden = 128\n",
    "\n",
    "inputs = layers.Input(shape=(num_inputs,))\n",
    "common = layers.Dense(num_hidden, activation = 'relu')(inputs)\n",
    "action = layers.Dense(num_actions, activation = \"softmax\")(common)\n",
    "critic = layers.Dense(1)(common)\n",
    "\n",
    "model = keras.Model(inputs = inputs, outputs = [action, critic])\n",
    "\n",
    "# actor and critic tend to share initial layer weight to fasten convergence"
   ]
  },
  {
   "cell_type": "code",
   "execution_count": null,
   "id": "732d701b-48e6-49ef-a6bc-babc9acd5f87",
   "metadata": {},
   "outputs": [],
   "source": [
    "optimizer = keras.optimizers.Adam(learning_rate=0.01)\n",
    "huber_loss = keras.losses.Huber()\n",
    "action_probs_history=[]\n",
    "critic_value_history=[]\n",
    "reward_history=[]\n",
    "running_reward=0\n",
    "episode_count=0\n",
    "\n",
    "while True:\n",
    "    state = env.reset()\n",
    "    episode_reward=0\n",
    "    with tf.GradientTape() as tape: # A retravailler\n",
    "        for timestep in range(1, max_steps_per_episode):\n",
    "            env.render() # Si on veux le rendu\n",
    "            state = tf.convert_to_tensor(state)\n",
    "            state = tf.expand_dims(state, 0)\n",
    "            \n",
    "            # pour l'état présent, renvoie les sorties des deux 2N Actor et Critic\n",
    "            # stocke l'avantage pour des calculs ultérieurs hors de la boucle\n",
    "            action_probs, critic_value = model(state)\n",
    "            critic_value_history.append(critic_value[0,0])\n",
    "            print(action_probs)\n",
    "            print(critic_value)\n",
    "            # Policy : donne l'action selon les actions possibles et la distribution d'actions donnée par l'actor\n",
    "            # puis stocke cette action dans l'historique\n",
    "            action = np.random.choice(num_actions, p=np.squeeze(action_probs))\n",
    "            action_probs_history.append(tf.math.log(action_probs[0,action]))\n",
    "            \n",
    "            # Joue l'environnement pour l'état présent et l'action précédemment choisie\n",
    "            # puis stocke la récompense dans l'historique\n",
    "            # Si done, alors le pendule est tombé et la simulation n'est plus intéressante.\n",
    "            state, reward, done, _ = env.step(action)\n",
    "            reward_history.append(reward)\n",
    "            episode_reward += reward\n",
    "            \n",
    "            if done:\n",
    "                break \n",
    "        \n",
    "        running_reward = 0.05*episode_reward + (1-0.05)*running_reward\n",
    "        \n",
    "        # Calcul du retour attendu pour l'état présent \n",
    "        # le calcul \n",
    "        \n",
    "        returns = []\n",
    "        discounted_sum=0\n",
    "        for r in reward_history[::-1]:\n",
    "            discounted_sum = r + gamma*discounted_sum\n",
    "            returns.insert(0, discounted_sum)\n",
    "        returns = np.array(returns)\n",
    "        returns = (returns - np.mean(returns))/(np.std(returns)+eps)\n",
    "        returns = returns.tolist()\n",
    "        \n",
    "        history = zip(action_probs_history, critic_value_history, returns)\n",
    "        actor_losses = []\n",
    "        critic_losses = []\n",
    "        for log_prob, value, ret in history:\n",
    "            adv = ret - value \n",
    "            actor_losses.append(-log_prob * adv)\n",
    "            critic_losses.append(huber_loss(tf.expand_dims(value, 0), tf.expand_dims(ret,0)))\n",
    "            \n",
    "        loss_value = sum(actor_losses) + sum(critic_losses)\n",
    "        print(loss_value)\n",
    "        grads = tape.gradient(loss_value, model.trainable_variables)\n",
    "        optimizer.apply_gradients(zip(grads, model.trainable_variables))\n",
    "        \n",
    "        action_probs_history.clear()\n",
    "        critic_value_history.clear()\n",
    "        reward_history.clear()\n",
    "        \n",
    "        episode_count += 1\n",
    "        if episode_count%10==0:\n",
    "            print(\"Running reward {} at episode {}\".format(running_reward, episode_count))"
   ]
  },
  {
   "cell_type": "code",
   "execution_count": null,
   "id": "20056ed4-5942-4b39-ac89-c1581c5d811b",
   "metadata": {},
   "outputs": [],
   "source": [
    "\n"
   ]
  }
 ],
 "metadata": {
  "kernelspec": {
   "display_name": "Python 3",
   "language": "python",
   "name": "python3"
  },
  "language_info": {
   "codemirror_mode": {
    "name": "ipython",
    "version": 3
   },
   "file_extension": ".py",
   "mimetype": "text/x-python",
   "name": "python",
   "nbconvert_exporter": "python",
   "pygments_lexer": "ipython3",
   "version": "3.6.13"
  }
 },
 "nbformat": 4,
 "nbformat_minor": 5
}
